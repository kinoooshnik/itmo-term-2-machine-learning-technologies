{
 "nbformat": 4,
 "nbformat_minor": 0,
 "metadata": {
  "coursera": {
   "course_slug": "neural-networks-deep-learning",
   "graded_item_id": "XaIWT",
   "launcher_item_id": "zAgPl"
  },
  "kernelspec": {
   "display_name": "Python 3",
   "language": "python",
   "name": "python3"
  },
  "language_info": {
   "codemirror_mode": {
    "name": "ipython",
    "version": 3
   },
   "file_extension": ".py",
   "mimetype": "text/x-python",
   "name": "python",
   "nbconvert_exporter": "python",
   "pygments_lexer": "ipython3",
   "version": "3.7.0"
  },
  "colab": {
   "name": "Logistic Regression as a Neural Network - BP alg.ipynb",
   "provenance": [],
   "collapsed_sections": []
  }
 },
 "cells": [
  {
   "cell_type": "markdown",
   "metadata": {
    "id": "JRl66UzjYVlq"
   },
   "source": [
    "# Logistic Regression as a Neural Network \n",
    "(partly following deeplearning.ai lab)\n",
    "\n",
    "    - Initializing parameters\n",
    "    - Calculating the cost function and its gradient\n",
    "    - Using an optimization algorithm (gradient descent) \n"
   ]
  },
  {
   "cell_type": "code",
   "metadata": {
    "id": "MlSzJZcyYVlv"
   },
   "source": [
    "import random\n",
    "from typing import Callable\n",
    "\n",
    "import numpy as np\n",
    "import matplotlib.pyplot as plt\n",
    "import pandas as pd\n",
    "import scipy\n",
    "from sklearn.model_selection import train_test_split\n",
    "% matplotlib inline"
   ],
   "execution_count": 56,
   "outputs": [
    {
     "name": "stderr",
     "output_type": "stream",
     "text": [
      "UsageError: Line magic function `%` not found.\n"
     ]
    }
   ]
  },
  {
   "cell_type": "markdown",
   "metadata": {
    "id": "BixMxtmYYVlw"
   },
   "source": [
    "## General Architecture of the algorithm ##\n",
    "\n",
    "\n",
    "Build a Logistic Regression, using a Neural Network mindset.\n",
    "\n",
    "**Logistic Regression is actually a very simple Neural Network!**\n",
    "\n",
    "\n",
    "**Mathematical expression of the algorithm**:\n",
    "\n",
    "For one example $x^{(i)}$:\n",
    "$$z^{(i)} = w^T x^{(i)} + b \\tag{1}$$\n",
    "$$\\hat{y}^{(i)} = a^{(i)} = sigmoid(z^{(i)})\\tag{2}$$ \n",
    "$$ \\mathcal{L}(a^{(i)}, y^{(i)}) =  - y^{(i)}  \\log(a^{(i)}) - (1-y^{(i)} )  \\log(1-a^{(i)})\\tag{3}$$\n",
    "\n",
    "The cost is then computed by summing over all training examples:\n",
    "$$ J = \\frac{1}{m} \\sum_{i=1}^m \\mathcal{L}(a^{(i)}, y^{(i)})$$\n",
    "\n",
    "**Key steps**:\n",
    "    - Initialize the parameters of the model\n",
    "    - Learn the parameters for the model by minimizing the cost  \n",
    "    - Use the learned parameters to make predictions (on the test set)\n",
    "    - Analyse the results and conclude"
   ]
  },
  {
   "cell_type": "markdown",
   "metadata": {
    "id": "1rFmqFwQYVlw"
   },
   "source": [
    "## Parts of our algorithm ## \n",
    "\n",
    "The main steps for building a Neural Network are:\n",
    "1. Define the model structure (such as number of input features, number of layers, number of neurons in the layer etc.) \n",
    "2. Initialize the model's parameters\n",
    "3. Loop:\n",
    "    - Calculate current loss (forward propagation)\n",
    "    - Calculate current gradient (backward propagation)\n",
    "    - Update parameters (gradient descent)\n",
    "\n",
    "Build 1-3 separately and integrate them into one function we call `model()`.\n",
    "\n",
    "### Sigmoid\n",
    "\n",
    "$sigmoid( w^T x + b) = \\frac{1}{1 + e^{-(w^T x + b)}}$ "
   ]
  },
  {
   "cell_type": "code",
   "metadata": {
    "id": "q16NvSTkYVlx"
   },
   "source": [
    "# sigmoid\n",
    "\n",
    "def sigmoid(z):\n",
    "    \"\"\"\n",
    "    Compute the sigmoid of z\n",
    "\n",
    "    Arguments:\n",
    "    z -- A scalar or numpy array of any size.\n",
    "\n",
    "    Return:\n",
    "    s -- sigmoid(z)\n",
    "    \"\"\"\n",
    "    s = 1. / (1. + np.exp(-z))\n",
    "\n",
    "    return s"
   ],
   "execution_count": 2,
   "outputs": []
  },
  {
   "cell_type": "code",
   "metadata": {
    "scrolled": true,
    "id": "9It4n0EvYVlx"
   },
   "source": [
    "print(\"sigmoid([0, 2, 10, -10]) = \" + str(sigmoid(np.array([0., 2., -2., 100.]))))"
   ],
   "execution_count": 3,
   "outputs": [
    {
     "name": "stdout",
     "output_type": "stream",
     "text": [
      "sigmoid([0, 2, 10, -10]) = [0.5        0.88079708 0.11920292 1.        ]\n"
     ]
    }
   ]
  },
  {
   "cell_type": "markdown",
   "metadata": {
    "id": "bpd0wqL7YVlx"
   },
   "source": [
    "### Initializing parameters\n",
    "\n"
   ]
  },
  {
   "cell_type": "code",
   "metadata": {
    "id": "nC_xYzTEYVly"
   },
   "source": [
    "# initialize_with_zeros\n",
    "\n",
    "def initialize_with_zeros(dim):\n",
    "    \"\"\"\n",
    "    This function creates a vector of zeros of shape (dim, 1) for w and initializes b to 0.\n",
    "    \n",
    "    Argument:\n",
    "    dim -- size of the w vector we want (or number of parameters in this case)\n",
    "    \n",
    "    Returns:\n",
    "    w -- initialized vector of shape (dim, 1)\n",
    "    b -- initialized scalar (corresponds to the bias)\n",
    "    \"\"\"\n",
    "    w = np.zeros((dim, 1))\n",
    "    b = 0.\n",
    "\n",
    "    return w, b"
   ],
   "execution_count": 4,
   "outputs": []
  },
  {
   "cell_type": "code",
   "metadata": {
    "id": "tEQyfQAlYVly"
   },
   "source": [
    "dim = 3\n",
    "w, b = initialize_with_zeros(dim)\n",
    "print(\"w = \" + str(w))\n",
    "print(\"b = \" + str(b))"
   ],
   "execution_count": 5,
   "outputs": [
    {
     "name": "stdout",
     "output_type": "stream",
     "text": [
      "w = [[0.]\n",
      " [0.]\n",
      " [0.]]\n",
      "b = 0.0\n"
     ]
    }
   ]
  },
  {
   "cell_type": "markdown",
   "metadata": {
    "id": "K8qHMDabYVly"
   },
   "source": [
    "### Forward and Backward propagation\n",
    "\n",
    "Implement a function `propagate()` that computes the cost function and its gradient.\n",
    "\n",
    "Forward Propagation:\n",
    "- You get X\n",
    "- You compute $A = \\sigma(w^T X + b) = (a^{(1)}, a^{(2)}, ..., a^{(m-1)}, a^{(m)})$\n",
    "- You calculate the cost function: $J = -\\frac{1}{m}\\sum_{i=1}^{m}y^{(i)}\\log(a^{(i)})+(1-y^{(i)})\\log(1-a^{(i)})$\n",
    "\n",
    "Here are the two formulas we should use: \n",
    "\n",
    "$$ \\frac{\\partial J}{\\partial w} = \\frac{1}{m}X(A-Y)^T$$\n",
    "$$ \\frac{\\partial J}{\\partial b} = \\frac{1}{m} \\sum_{i=1}^m (a^{(i)}-y^{(i)})$$"
   ]
  },
  {
   "cell_type": "code",
   "metadata": {
    "id": "RzhXWVi1YVlz"
   },
   "source": [
    "# propagate\n",
    "\n",
    "def propagate(w, b, X, Y):\n",
    "    \"\"\"\n",
    "    Implement the cost function and its gradient for the propagation explained above\n",
    "\n",
    "    Arguments:\n",
    "    w -- weights, a numpy array of size which equals the number of features\n",
    "    b -- bias, a scalar\n",
    "    X -- data \n",
    "    Y -- true \"label\" vector (containing 0 and 1) of size (1, number of examples)\n",
    "\n",
    "    Return:\n",
    "    cost -- negative log-likelihood cost for logistic regression\n",
    "    dw -- gradient of the loss with respect to w, thus same shape as w\n",
    "    db -- gradient of the loss with respect to b, thus same shape as b\n",
    "    \n",
    "    \"\"\"\n",
    "    m = X.shape[1]\n",
    "    #print('number of objects = ',len(X))\n",
    "\n",
    "    # FORWARD PROPAGATION (FROM X TO COST)\n",
    "    A = sigmoid(np.dot(w.T, X) + b)  # compute activation\n",
    "    cost = -(1. / m) * np.sum(Y * np.log(A) + (1 - Y) * np.log(1 - A), axis=1)  # compute cost\n",
    "\n",
    "    # BACKWARD PROPAGATION (TO FIND GRAD)\n",
    "    dw = (1. / m) * np.dot(X, (A - Y).T)\n",
    "    db = (1. / m) * np.sum(A - Y, axis=1)\n",
    "\n",
    "    grads = {\"dw\": dw,\n",
    "             \"db\": db}\n",
    "\n",
    "    return grads, cost"
   ],
   "execution_count": 6,
   "outputs": []
  },
  {
   "cell_type": "code",
   "metadata": {
    "id": "jofXU2o7YVlz"
   },
   "source": [
    "w, b, X, Y = np.array([[1.], [-1.]]), 4., np.array([[1., 5., -1.], [10., 0., -3.2]]), np.array([[0, 1, 1]])\n",
    "grads, cost = propagate(w, b, X, Y)\n",
    "print(\"dw = \" + str(grads[\"dw\"]))\n",
    "print(\"db = \" + str(grads[\"db\"]))\n",
    "print(\"cost = \" + str(cost))"
   ],
   "execution_count": 7,
   "outputs": [
    {
     "name": "stdout",
     "output_type": "stream",
     "text": [
      "dw = [[0.0027004 ]\n",
      " [0.02446984]]\n",
      "db = [0.00151471]\n",
      "cost = [0.00295537]\n"
     ]
    }
   ]
  },
  {
   "cell_type": "markdown",
   "metadata": {
    "id": "5Rjc-2wuYVlz"
   },
   "source": [
    "### Optimization\n",
    "- We have initialized the parameters.\n",
    "- We are able to compute a cost function and its gradient.\n",
    "- Now, we have to update the parameters using gradient descent.\n",
    "\n",
    "For a parameter $\\theta$, the update rule is $ \\theta = \\theta - \\alpha \\text{ } d\\theta$, where $\\alpha$ is the learning rate."
   ]
  },
  {
   "cell_type": "code",
   "metadata": {
    "id": "zI5mo-6fYVl0"
   },
   "source": [
    "# optimize\n",
    "\n",
    "def optimize_gd(w, b, X, Y, num_iterations, learning_rate, print_cost=False):\n",
    "    \"\"\"\n",
    "    This function optimizes w and b by running a gradient descent algorithm\n",
    "    \n",
    "    Arguments:\n",
    "    w -- weights, a numpy array \n",
    "    b -- bias, a scalar\n",
    "    X -- data \n",
    "    Y -- true \"label\" vector (containing 0 and 1), of shape (1, number of examples)\n",
    "    num_iterations -- number of iterations of the optimization loop\n",
    "    learning_rate -- learning rate of the gradient descent update rule\n",
    "    print_cost -- True to print the loss every 100 steps\n",
    "    \n",
    "    Returns:\n",
    "    params -- dictionary containing the weights w and bias b\n",
    "    grads -- dictionary containing the gradients of the weights and bias with respect to the cost function\n",
    "    costs -- list of all the costs computed during the optimization, this will be used to plot the learning curve.\n",
    "    \n",
    "    \"\"\"\n",
    "\n",
    "    costs = []\n",
    "\n",
    "    for i in range(num_iterations):\n",
    "\n",
    "        # Cost and gradient calculation \n",
    "        grads, cost = propagate(w, b, X, Y)\n",
    "\n",
    "        # Retrieve derivatives from grads\n",
    "        dw = grads[\"dw\"]\n",
    "        db = grads[\"db\"]\n",
    "\n",
    "        # update rule\n",
    "        w -= learning_rate * dw\n",
    "        b -= learning_rate * db\n",
    "\n",
    "        # Record the costs\n",
    "        if i % 100 == 0:\n",
    "            costs.append(cost)\n",
    "\n",
    "        # Print the cost every 100 training iterations\n",
    "        if print_cost and i % 100 == 0:\n",
    "            print(\"Cost after iteration %i: %f\" % (i, cost))\n",
    "\n",
    "    params = {\"w\": w,\n",
    "              \"b\": b}\n",
    "\n",
    "    grads = {\"dw\": dw,\n",
    "             \"db\": db}\n",
    "\n",
    "    return params, grads, costs"
   ],
   "execution_count": 46,
   "outputs": []
  },
  {
   "cell_type": "code",
   "metadata": {
    "id": "A_Cw0F1mYVl0"
   },
   "source": [
    "params, grads, costs = optimize_gd(w, b, X, Y, num_iterations=1000, learning_rate=0.005, print_cost=True)\n",
    "\n",
    "print(\"w = \" + str(params[\"w\"]))\n",
    "print(\"b = \" + str(params[\"b\"]))\n",
    "print(\"dw = \" + str(grads[\"dw\"]))\n",
    "print(\"db = \" + str(grads[\"db\"]))"
   ],
   "execution_count": 47,
   "outputs": [
    {
     "name": "stdout",
     "output_type": "stream",
     "text": [
      "Cost after iteration 0: 0.824838\n",
      "Cost after iteration 100: 0.470206\n",
      "Cost after iteration 200: 0.338820\n",
      "Cost after iteration 300: 0.272989\n",
      "Cost after iteration 400: 0.232216\n",
      "Cost after iteration 500: 0.203700\n",
      "Cost after iteration 600: 0.182243\n",
      "Cost after iteration 700: 0.165311\n",
      "Cost after iteration 800: 0.151502\n",
      "Cost after iteration 900: 0.139966\n",
      "w = [[-1.41112627]\n",
      " [ 0.32144815]]\n",
      "b = [-0.29088205]\n",
      "dw = [[ 0.13300869]\n",
      " [-0.00230662]]\n",
      "db = [0.02262338]\n"
     ]
    }
   ]
  },
  {
   "cell_type": "markdown",
   "metadata": {
    "id": "WveKLLR6YVl1"
   },
   "source": [
    "Implement the `predict()` function. There are two steps to compute predictions:\n",
    "\n",
    "1. Calculate $\\hat{Y} = A = \\sigma(w^T X + b)$\n",
    "\n",
    "2. Convert the entries of A into 0 (if activation <= 0.5) or 1 (if activation > 0.5), store the predictions in a vector `Y_prediction`. "
   ]
  },
  {
   "cell_type": "code",
   "metadata": {
    "id": "Q6p8pd8pYVl1"
   },
   "source": [
    "# predict\n",
    "\n",
    "def predict(w, b, X):\n",
    "    '''\n",
    "    Predict whether the label is 0 or 1 using learned logistic regression parameters (w, b)\n",
    "    \n",
    "    Arguments:\n",
    "    w -- weights, a numpy array \n",
    "    b -- bias, a scalar\n",
    "    X -- data \n",
    "    \n",
    "    Returns:\n",
    "    Y_prediction -- a numpy array (vector) containing all predictions (0/1) for the examples in X\n",
    "    '''\n",
    "\n",
    "    m = X.shape[1]\n",
    "    Y_prediction = np.zeros((1, m))\n",
    "    w = w.reshape(X.shape[0], 1)\n",
    "\n",
    "    # Compute vector \"A\" predicting the probabilities \n",
    "    A = sigmoid(np.dot(w.T, X) + b)\n",
    "\n",
    "    for i in range(A.shape[1]):\n",
    "\n",
    "        # Convert probabilities A[0,i] to actual predictions p[0,i]\n",
    "        if (A[0, i] <= 0.5):\n",
    "            Y_prediction[0][i] = 0\n",
    "        else:\n",
    "            Y_prediction[0][i] = 1\n",
    "\n",
    "    return Y_prediction"
   ],
   "execution_count": 10,
   "outputs": []
  },
  {
   "cell_type": "code",
   "metadata": {
    "id": "IeFbe51nYVl2"
   },
   "source": [
    "w = np.array([[0.1124579], [0.23106775]])\n",
    "b = -0.3\n",
    "X = np.array([[1., -1.1, -3.2], [1.2, 2., 0.1]])\n",
    "print(\"predictions = \" + str(predict(w, b, X)))"
   ],
   "execution_count": 11,
   "outputs": [
    {
     "name": "stdout",
     "output_type": "stream",
     "text": [
      "predictions = [[1. 1. 0.]]\n"
     ]
    }
   ]
  },
  {
   "cell_type": "markdown",
   "metadata": {
    "collapsed": true,
    "id": "IzJOsYM2YVl2"
   },
   "source": [
    "\n",
    "Already have:\n",
    "- Initialize (w,b)\n",
    "- Optimize the loss iteratively to learn parameters (w,b):\n",
    "    - computing the cost and its gradient \n",
    "    - updating the parameters using gradient descent\n",
    "- Use the learned (w,b) to predict the labels for a given set of examples"
   ]
  },
  {
   "cell_type": "markdown",
   "metadata": {
    "id": "gIHsdqPgYVl2"
   },
   "source": [
    "## Merge it all into a model ##\n",
    "\n",
    "    - Y_prediction_test for the predictions on the test set\n",
    "    - Y_prediction_train for the predictions on the train set\n",
    "    - w, costs, grads for the outputs of optimize()"
   ]
  },
  {
   "cell_type": "code",
   "metadata": {
    "id": "TMVbePtZYVl2"
   },
   "source": [
    "# model\n",
    "\n",
    "def model(X_train, Y_train, X_test, Y_test, optimize: Callable, num_iterations=2000, learning_rate=0.5,\n",
    "          print_cost=False):\n",
    "    \"\"\"\n",
    "    Builds the logistic regression model by calling the function we've implemented previously\n",
    "    \n",
    "    Arguments:\n",
    "    X_train -- training set represented by a numpy array \n",
    "    Y_train -- training labels represented by a numpy array (vector) of shape (1, m_train)\n",
    "    X_test -- test set represented by a numpy array \n",
    "    Y_test -- test labels represented by a numpy array (vector) of shape (1, m_test)\n",
    "    num_iterations -- hyperparameter representing the number of iterations to optimize the parameters\n",
    "    learning_rate -- hyperparameter representing the learning rate used in the update rule of optimize()\n",
    "    print_cost -- Set to true to print the cost every 100 iterations\n",
    "    \n",
    "    Returns:\n",
    "    d -- dictionary containing information about the model.\n",
    "    \"\"\"\n",
    "\n",
    "    # initialize parameters with zeros \n",
    "    w, b = initialize_with_zeros(X_train.shape[0])\n",
    "\n",
    "    # Gradient descent\n",
    "    parameters, grads, costs = optimize(w, b, X_train, Y_train, num_iterations, learning_rate, print_cost)\n",
    "\n",
    "    # Retrieve parameters w and b from dictionary \"parameters\"\n",
    "    w = parameters[\"w\"]\n",
    "    b = parameters[\"b\"]\n",
    "\n",
    "    # Predict test/train set examples\n",
    "    Y_prediction_test = predict(w, b, X_test)\n",
    "    Y_prediction_train = predict(w, b, X_train)\n",
    "\n",
    "    # Print train/test Errors\n",
    "    print(\"train accuracy: {} %\".format(100 - np.mean(np.abs(Y_prediction_train - Y_train)) * 100))\n",
    "    print(\"test accuracy: {} %\".format(100 - np.mean(np.abs(Y_prediction_test - Y_test)) * 100))\n",
    "\n",
    "    d = {\"costs\": costs,\n",
    "         \"Y_prediction_test\": Y_prediction_test,\n",
    "         \"Y_prediction_train\": Y_prediction_train,\n",
    "         \"w\": w,\n",
    "         \"b\": b,\n",
    "         \"learning_rate\": learning_rate,\n",
    "         \"num_iterations\": num_iterations}\n",
    "\n",
    "    return d"
   ],
   "execution_count": 48,
   "outputs": []
  },
  {
   "cell_type": "markdown",
   "metadata": {
    "id": "SMOjXzwNYVl3"
   },
   "source": [
    "Run the following cell to train your model."
   ]
  },
  {
   "cell_type": "markdown",
   "source": [
    "1.\tApply the logistic regression method using the functions in the notebook «Logistic Regression as a Neural Network – BP alg.ipynb” to predict the biological response of a molecule data. Use 75% of the dataset to train the model, and the rest of the data to estimate its accuracy."
   ],
   "metadata": {
    "collapsed": false,
    "pycharm": {
     "name": "#%% md\n"
    }
   }
  },
  {
   "cell_type": "code",
   "execution_count": 40,
   "outputs": [],
   "source": [
    "data = pd.read_csv(\"bioresponse.csv\")"
   ],
   "metadata": {
    "collapsed": false,
    "pycharm": {
     "name": "#%%\n"
    }
   }
  },
  {
   "cell_type": "code",
   "execution_count": 43,
   "outputs": [],
   "source": [
    "train_set_x, test_set_x, train_set_y, test_set_y = train_test_split(data.drop(\"Activity\", axis=1),\n",
    "                                                                    data[\"Activity\"],\n",
    "                                                                    test_size=0.25,\n",
    "                                                                    random_state=0)"
   ],
   "metadata": {
    "collapsed": false,
    "pycharm": {
     "name": "#%%\n"
    }
   }
  },
  {
   "cell_type": "code",
   "metadata": {
    "id": "4NWUYiqoYVl3"
   },
   "source": [
    "d_gd = model(train_set_x.to_numpy().T, train_set_y.to_numpy().T, test_set_x.to_numpy().T, test_set_y.to_numpy().T,\n",
    "             optimize=optimize_gd, num_iterations=2000, learning_rate=0.001, print_cost=True)"
   ],
   "execution_count": 65,
   "outputs": [
    {
     "name": "stdout",
     "output_type": "stream",
     "text": [
      "Cost after iteration 0: 0.693147\n",
      "Cost after iteration 100: 0.678956\n",
      "Cost after iteration 200: 0.671388\n",
      "Cost after iteration 300: 0.664732\n",
      "Cost after iteration 400: 0.658592\n",
      "Cost after iteration 500: 0.652883\n",
      "Cost after iteration 600: 0.647550\n",
      "Cost after iteration 700: 0.642549\n",
      "Cost after iteration 800: 0.637844\n",
      "Cost after iteration 900: 0.633404\n",
      "Cost after iteration 1000: 0.629203\n",
      "Cost after iteration 1100: 0.625219\n",
      "Cost after iteration 1200: 0.621434\n",
      "Cost after iteration 1300: 0.617828\n",
      "Cost after iteration 1400: 0.614389\n",
      "Cost after iteration 1500: 0.611102\n",
      "Cost after iteration 1600: 0.607956\n",
      "Cost after iteration 1700: 0.604939\n",
      "Cost after iteration 1800: 0.602044\n",
      "Cost after iteration 1900: 0.599260\n",
      "train accuracy: 72.23604692499111 %\n",
      "test accuracy: 68.7633262260128 %\n"
     ]
    }
   ]
  },
  {
   "cell_type": "markdown",
   "metadata": {
    "id": "v42GrLJIYVl3"
   },
   "source": [
    "Bibliography:\n",
    "- http://www.wildml.com/2015/09/implementing-a-neural-network-from-scratch/\n"
   ]
  },
  {
   "cell_type": "markdown",
   "metadata": {
    "id": "dz55zNblYVl4",
    "pycharm": {
     "name": "#%% md\n"
    }
   },
   "source": [
    "### SGD"
   ]
  },
  {
   "cell_type": "markdown",
   "source": [
    "2.\tModify optimize() function to implement the stochastic gradient descent (SGD) method. Apply it to solve the problem from p.1."
   ],
   "metadata": {
    "collapsed": false,
    "pycharm": {
     "name": "#%% md\n"
    }
   }
  },
  {
   "cell_type": "code",
   "execution_count": 82,
   "outputs": [],
   "source": [
    "def optimize_sgd(w, b, X, Y, num_iterations, learning_rate, print_cost=False, batch_size=32):\n",
    "    \"\"\"\n",
    "    This function optimizes w and b by running a gradient descent algorithm\n",
    "\n",
    "    Arguments:\n",
    "    w -- weights, a numpy array\n",
    "    b -- bias, a scalar\n",
    "    X -- data\n",
    "    Y -- true \"label\" vector (containing 0 and 1), of shape (1, number of examples)\n",
    "    num_iterations -- number of iterations of the optimization loop\n",
    "    learning_rate -- learning rate of the gradient descent update rule\n",
    "    print_cost -- True to print the loss every 100 steps\n",
    "\n",
    "    Returns:\n",
    "    params -- dictionary containing the weights w and bias b\n",
    "    grads -- dictionary containing the gradients of the weights and bias with respect to the cost function\n",
    "    costs -- list of all the costs computed during the optimization, this will be used to plot the learning curve.\n",
    "\n",
    "    \"\"\"\n",
    "    costs = []\n",
    "\n",
    "    for i in range(num_iterations):\n",
    "\n",
    "        # Cost and gradient calculation\n",
    "        rands = random.sample(range(len(X)), batch_size)\n",
    "        grads, cost = propagate(w, b, X[:, rands], Y[rands])\n",
    "\n",
    "        # Retrieve derivatives from grads\n",
    "        dw = grads[\"dw\"]\n",
    "        db = grads[\"db\"]\n",
    "\n",
    "        # update rule\n",
    "        w -= learning_rate * dw\n",
    "        b -= learning_rate * db\n",
    "\n",
    "        # Record the costs\n",
    "        if i % 100 == 0:\n",
    "            costs.append(cost)\n",
    "\n",
    "        # Print the cost every 100 training iterations\n",
    "        if print_cost and i % 100 == 0:\n",
    "            print(\"Cost after iteration %i: %f\" % (i, cost))\n",
    "\n",
    "    params = {\"w\": w,\n",
    "              \"b\": b}\n",
    "\n",
    "    grads = {\"dw\": dw,\n",
    "             \"db\": db}\n",
    "\n",
    "    return params, grads, costs"
   ],
   "metadata": {
    "collapsed": false,
    "pycharm": {
     "name": "#%%\n"
    }
   }
  },
  {
   "cell_type": "code",
   "execution_count": 83,
   "outputs": [
    {
     "name": "stdout",
     "output_type": "stream",
     "text": [
      "Cost after iteration 0: 0.693147\n",
      "Cost after iteration 100: 0.698583\n",
      "Cost after iteration 200: 0.636087\n",
      "Cost after iteration 300: 0.689954\n",
      "Cost after iteration 400: 0.615459\n",
      "Cost after iteration 500: 0.677631\n",
      "Cost after iteration 600: 0.652635\n",
      "Cost after iteration 700: 0.595363\n",
      "Cost after iteration 800: 0.673706\n",
      "Cost after iteration 900: 0.648994\n",
      "Cost after iteration 1000: 0.603289\n",
      "Cost after iteration 1100: 0.651161\n",
      "Cost after iteration 1200: 0.579909\n",
      "Cost after iteration 1300: 0.615006\n",
      "Cost after iteration 1400: 0.602621\n",
      "Cost after iteration 1500: 0.606652\n",
      "Cost after iteration 1600: 0.604941\n",
      "Cost after iteration 1700: 0.609025\n",
      "Cost after iteration 1800: 0.610766\n",
      "Cost after iteration 1900: 0.599531\n",
      "train accuracy: 72.9825808745112 %\n",
      "test accuracy: 69.18976545842217 %\n"
     ]
    }
   ],
   "source": [
    "d_sgd = model(train_set_x.to_numpy().T, train_set_y.to_numpy().T, test_set_x.to_numpy().T, test_set_y.to_numpy().T,\n",
    "              optimize=optimize_sgd, num_iterations=2000, learning_rate=0.001, print_cost=True)"
   ],
   "metadata": {
    "collapsed": false,
    "pycharm": {
     "name": "#%%\n"
    }
   }
  },
  {
   "cell_type": "markdown",
   "source": [
    "3.\tFor two modifications of gradient descent (pp. 1 and 2), plot the learning curves (dependence of the value of the loss function on the iteration number), apply models with different values of the learning rate (at least 5 different learning rates). How does it affect the accuracy of the model?"
   ],
   "metadata": {
    "collapsed": false,
    "pycharm": {
     "name": "#%% md\n"
    }
   }
  },
  {
   "cell_type": "code",
   "execution_count": 76,
   "outputs": [],
   "source": [
    "def print_compare_gd_and_sgd_plot(lr, num_iterations=2000) -> None:\n",
    "    d_gd = model(train_set_x.to_numpy().T, train_set_y.to_numpy().T, test_set_x.to_numpy().T, test_set_y.to_numpy().T,\n",
    "                 optimize=optimize_gd, num_iterations=num_iterations, learning_rate=lr, print_cost=False)\n",
    "    d_sgd = model(train_set_x.to_numpy().T, train_set_y.to_numpy().T, test_set_x.to_numpy().T, test_set_y.to_numpy().T,\n",
    "                  optimize=optimize_sgd, num_iterations=num_iterations, learning_rate=lr, print_cost=False)\n",
    "    plt.figure(figsize=(7, 5))\n",
    "    plt.plot(range(0, num_iterations, 100), d_gd['costs'], label=\"GD\")\n",
    "    plt.plot(range(0, num_iterations, 100), d_sgd['costs'], label=\"SGD\")\n",
    "    plt.title(f'Compare GD and SGD; lr={lr}', fontsize=15)\n",
    "    plt.xlabel('iteration', fontsize=12)\n",
    "    plt.ylabel('cost', fontsize=12)\n",
    "    plt.legend()\n",
    "    plt.grid(True)\n",
    "    plt.show()"
   ],
   "metadata": {
    "collapsed": false,
    "pycharm": {
     "name": "#%%\n"
    }
   }
  },
  {
   "cell_type": "code",
   "execution_count": 78,
   "outputs": [
    {
     "name": "stdout",
     "output_type": "stream",
     "text": [
      "train accuracy: 79.34589406327764 %\n",
      "test accuracy: 75.3731343283582 %\n",
      "train accuracy: 78.88375399928901 %\n",
      "test accuracy: 74.6268656716418 %\n"
     ]
    },
    {
     "data": {
      "text/plain": "<Figure size 504x360 with 1 Axes>",
      "image/png": "[encoded data removed]"
     },
     "metadata": {
      "needs_background": "light"
     },
     "output_type": "display_data"
    },
    {
     "name": "stdout",
     "output_type": "stream",
     "text": [
      "train accuracy: 72.23604692499111 %\n",
      "test accuracy: 68.7633262260128 %\n",
      "train accuracy: 73.26697476004266 %\n",
      "test accuracy: 68.5501066098081 %\n"
     ]
    },
    {
     "data": {
      "text/plain": "<Figure size 504x360 with 1 Axes>",
      "image/png": "[encoded data removed]"
     },
     "metadata": {
      "needs_background": "light"
     },
     "output_type": "display_data"
    },
    {
     "name": "stdout",
     "output_type": "stream",
     "text": [
      "train accuracy: 56.843227870600785 %\n",
      "test accuracy: 58.2089552238806 %\n",
      "train accuracy: 56.061144685389266 %\n",
      "test accuracy: 56.82302771855011 %\n"
     ]
    },
    {
     "data": {
      "text/plain": "<Figure size 504x360 with 1 Axes>",
      "image/png": "[encoded data removed]"
     },
     "metadata": {
      "needs_background": "light"
     },
     "output_type": "display_data"
    },
    {
     "name": "stdout",
     "output_type": "stream",
     "text": [
      "train accuracy: 54.0348382509776 %\n",
      "test accuracy: 54.79744136460554 %\n",
      "train accuracy: 54.0348382509776 %\n",
      "test accuracy: 54.79744136460554 %\n"
     ]
    },
    {
     "data": {
      "text/plain": "<Figure size 504x360 with 1 Axes>",
      "image/png": "[encoded data removed]"
     },
     "metadata": {
      "needs_background": "light"
     },
     "output_type": "display_data"
    },
    {
     "name": "stdout",
     "output_type": "stream",
     "text": [
      "train accuracy: 54.0348382509776 %\n",
      "test accuracy: 54.79744136460554 %\n",
      "train accuracy: 54.0348382509776 %\n",
      "test accuracy: 54.79744136460554 %\n"
     ]
    },
    {
     "data": {
      "text/plain": "<Figure size 504x360 with 1 Axes>",
      "image/png": "[encoded data removed]"
     },
     "metadata": {
      "needs_background": "light"
     },
     "output_type": "display_data"
    }
   ],
   "source": [
    "for lr in [0.01, 0.001, 0.0001, 0.00001, 0.000001]:\n",
    "    print_compare_gd_and_sgd_plot(lr)"
   ],
   "metadata": {
    "collapsed": false,
    "pycharm": {
     "name": "#%%\n"
    }
   }
  },
  {
   "cell_type": "markdown",
   "source": [
    "#### How different values of the learning rate affect the accuracy of the model?\n",
    "\n",
    "Then greater lr, then higher the accuracy. This is due to the fact that the optimizer moves more actively towards the gradient, and in the first iterations of training this is more important."
   ],
   "metadata": {
    "collapsed": false,
    "pycharm": {
     "name": "#%% md\n"
    }
   }
  },
  {
   "cell_type": "markdown",
   "source": [
    "4.\tImplement the Adam optimization method using the numpy library and compare the accuracy of the model fitted with it with the models trained by the classic GD and SGD algorithms."
   ],
   "metadata": {
    "collapsed": false,
    "pycharm": {
     "name": "#%% md\n"
    }
   }
  },
  {
   "cell_type": "code",
   "execution_count": 92,
   "outputs": [],
   "source": [
    "def optimize_adam(w: np.ndarray, b: float, X, Y, num_iterations, learning_rate, print_cost=False, beta1: float = 0.9, beta2: float = 0.999):\n",
    "    \"\"\"\n",
    "    This function optimizes w and b by running a gradient descent algorithm\n",
    "\n",
    "    Arguments:\n",
    "    w -- weights, a numpy array\n",
    "    b -- bias, a scalar\n",
    "    X -- data\n",
    "    Y -- true \"label\" vector (containing 0 and 1), of shape (1, number of examples)\n",
    "    num_iterations -- number of iterations of the optimization loop\n",
    "    learning_rate -- learning rate of the gradient descent update rule\n",
    "    print_cost -- True to print the loss every 100 steps\n",
    "\n",
    "    Returns:\n",
    "    params -- dictionary containing the weights w and bias b\n",
    "    grads -- dictionary containing the gradients of the weights and bias with respect to the cost function\n",
    "    costs -- list of all the costs computed during the optimization, this will be used to plot the learning curve.\n",
    "\n",
    "    \"\"\"\n",
    "    costs = []\n",
    "    velocity = np.zeros(w.shape)\n",
    "    accumulated = np.zeros(w.shape)\n",
    "    velocity_db = 0\n",
    "    accumulated_db = 0\n",
    "\n",
    "    for i in range(num_iterations):\n",
    "\n",
    "        # Cost and gradient calculation\n",
    "        grads, cost = propagate(w, b, X, Y)\n",
    "\n",
    "        # Retrieve derivatives from grads\n",
    "        dw = grads[\"dw\"]\n",
    "        db = grads[\"db\"]\n",
    "\n",
    "        # update rule\n",
    "        velocity = beta1 * velocity + (1 - beta1) * dw\n",
    "        accumulated = beta2 * accumulated + (1 - beta2) * dw ** 2\n",
    "        adaptive_lr = np.nan_to_num(learning_rate / np.sqrt(accumulated))\n",
    "        w = w - adaptive_lr * velocity\n",
    "\n",
    "        velocity_db = beta1 * velocity_db + (1 - beta1) * db\n",
    "        accumulated_db = beta2 * accumulated_db + (1 - beta2) * db ** 2\n",
    "        adaptive_lr_b = np.nan_to_num(learning_rate / np.sqrt(accumulated_db))\n",
    "        b = b - adaptive_lr_b * velocity_db\n",
    "\n",
    "        # Record the costs\n",
    "        if i % 100 == 0:\n",
    "            costs.append(cost)\n",
    "\n",
    "        # Print the cost every 100 training iterations\n",
    "        if print_cost and i % 100 == 0:\n",
    "            print(\"Cost after iteration %i: %f\" % (i, cost))\n",
    "\n",
    "    params = {\"w\": w,\n",
    "              \"b\": b}\n",
    "\n",
    "    grads = {\"dw\": dw,\n",
    "             \"db\": db}\n",
    "\n",
    "    return params, grads, costs"
   ],
   "metadata": {
    "collapsed": false,
    "pycharm": {
     "name": "#%%\n"
    }
   }
  },
  {
   "cell_type": "code",
   "execution_count": 93,
   "outputs": [
    {
     "name": "stderr",
     "output_type": "stream",
     "text": [
      "/var/folders/39/sbhbfb514339n_2mzhldqjm40000gn/T/ipykernel_25769/3154485601.py:38: RuntimeWarning: divide by zero encountered in true_divide\n",
      "  adaptive_lr = np.nan_to_num(learning_rate / np.sqrt(accumulated))\n"
     ]
    },
    {
     "name": "stdout",
     "output_type": "stream",
     "text": [
      "Cost after iteration 0: 0.693147\n",
      "Cost after iteration 100: 0.382787\n",
      "Cost after iteration 200: 0.345223\n",
      "Cost after iteration 300: 0.324298\n",
      "Cost after iteration 400: 0.309738\n",
      "Cost after iteration 500: 0.298541\n",
      "Cost after iteration 600: 0.289417\n",
      "Cost after iteration 700: 0.281694\n",
      "Cost after iteration 800: 0.274977\n",
      "Cost after iteration 900: 0.269014\n",
      "Cost after iteration 1000: 0.263636\n",
      "Cost after iteration 1100: 0.258726\n",
      "Cost after iteration 1200: 0.254196\n",
      "Cost after iteration 1300: 0.249983\n",
      "Cost after iteration 1400: 0.246037\n",
      "Cost after iteration 1500: 0.242319\n",
      "Cost after iteration 1600: 0.238798\n",
      "Cost after iteration 1700: 0.235450\n",
      "Cost after iteration 1800: 0.232255\n",
      "Cost after iteration 1900: 0.229195\n",
      "train accuracy: 90.65055101315322 %\n",
      "test accuracy: 73.98720682302772 %\n"
     ]
    }
   ],
   "source": [
    "d_adam = model(train_set_x.to_numpy().T, train_set_y.to_numpy().T, test_set_x.to_numpy().T, test_set_y.to_numpy().T,\n",
    "              optimize=optimize_adam, num_iterations=2000, learning_rate=0.001, print_cost=True)"
   ],
   "metadata": {
    "collapsed": false,
    "pycharm": {
     "name": "#%%\n"
    }
   }
  },
  {
   "cell_type": "code",
   "execution_count": 96,
   "outputs": [
    {
     "name": "stdout",
     "output_type": "stream",
     "text": [
      "train accuracy: 72.23604692499111 %\n",
      "test accuracy: 68.7633262260128 %\n",
      "train accuracy: 73.19587628865979 %\n",
      "test accuracy: 69.40298507462687 %\n"
     ]
    },
    {
     "name": "stderr",
     "output_type": "stream",
     "text": [
      "/var/folders/39/sbhbfb514339n_2mzhldqjm40000gn/T/ipykernel_25769/3154485601.py:38: RuntimeWarning: divide by zero encountered in true_divide\n",
      "  adaptive_lr = np.nan_to_num(learning_rate / np.sqrt(accumulated))\n"
     ]
    },
    {
     "name": "stdout",
     "output_type": "stream",
     "text": [
      "train accuracy: 90.65055101315322 %\n",
      "test accuracy: 73.98720682302772 %\n"
     ]
    },
    {
     "data": {
      "text/plain": "<Figure size 504x360 with 1 Axes>",
      "image/png": "[encoded data removed]"
     },
     "metadata": {
      "needs_background": "light"
     },
     "output_type": "display_data"
    }
   ],
   "source": [
    "lr = 0.001\n",
    "num_iterations = 2000\n",
    "d_gd = model(train_set_x.to_numpy().T, train_set_y.to_numpy().T, test_set_x.to_numpy().T, test_set_y.to_numpy().T,\n",
    "                optimize=optimize_gd, num_iterations=num_iterations, learning_rate=lr, print_cost=False)\n",
    "d_sgd = model(train_set_x.to_numpy().T, train_set_y.to_numpy().T, test_set_x.to_numpy().T, test_set_y.to_numpy().T,\n",
    "              optimize=optimize_sgd, num_iterations=num_iterations, learning_rate=lr, print_cost=False)\n",
    "d_adam = model(train_set_x.to_numpy().T, train_set_y.to_numpy().T, test_set_x.to_numpy().T, test_set_y.to_numpy().T,\n",
    "             optimize=optimize_adam, num_iterations=num_iterations, learning_rate=lr, print_cost=False)\n",
    "plt.figure(figsize=(7, 5))\n",
    "plt.plot(range(0, num_iterations, 100), d_gd['costs'], label=\"GD\")\n",
    "plt.plot(range(0, num_iterations, 100), d_sgd['costs'], label=\"SGD\")\n",
    "plt.plot(range(0, num_iterations, 100), d_adam['costs'], label=\"Adam\")\n",
    "plt.title(f'Compare GD, SGD and Adam; lr={lr}', fontsize=15)\n",
    "plt.xlabel('iteration', fontsize=12)\n",
    "plt.ylabel('cost', fontsize=12)\n",
    "plt.legend()\n",
    "plt.grid(True)\n",
    "plt.show()"
   ],
   "metadata": {
    "collapsed": false,
    "pycharm": {
     "name": "#%%\n"
    }
   }
  },
  {
   "cell_type": "markdown",
   "source": [
    "As you can see from the plot, Adam allows to optimize model much faster than GD and SGD."
   ],
   "metadata": {
    "collapsed": false,
    "pycharm": {
     "name": "#%% md\n"
    }
   }
  },
  {
   "cell_type": "code",
   "execution_count": null,
   "outputs": [],
   "source": [],
   "metadata": {
    "collapsed": false,
    "pycharm": {
     "name": "#%%\n"
    }
   }
  }
 ]
}